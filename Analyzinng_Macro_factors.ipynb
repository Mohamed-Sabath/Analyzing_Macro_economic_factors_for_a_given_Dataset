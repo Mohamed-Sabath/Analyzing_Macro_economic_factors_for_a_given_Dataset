{
 "cells": [
  {
   "cell_type": "markdown",
   "id": "45aa5bfd",
   "metadata": {},
   "source": [
    "##  2) Regression analysis"
   ]
  },
  {
   "cell_type": "code",
   "execution_count": 2,
   "id": "8a5d65e2",
   "metadata": {},
   "outputs": [
    {
     "data": {
      "text/html": [
       "<div>\n",
       "<style scoped>\n",
       "    .dataframe tbody tr th:only-of-type {\n",
       "        vertical-align: middle;\n",
       "    }\n",
       "\n",
       "    .dataframe tbody tr th {\n",
       "        vertical-align: top;\n",
       "    }\n",
       "\n",
       "    .dataframe thead th {\n",
       "        text-align: right;\n",
       "    }\n",
       "</style>\n",
       "<table border=\"1\" class=\"dataframe\">\n",
       "  <thead>\n",
       "    <tr style=\"text-align: right;\">\n",
       "      <th></th>\n",
       "      <th>Year</th>\n",
       "      <th>ST</th>\n",
       "      <th>EI</th>\n",
       "      <th>IH</th>\n",
       "      <th>GDP ($Mn)</th>\n",
       "      <th>BI ($Mn)</th>\n",
       "    </tr>\n",
       "  </thead>\n",
       "  <tbody>\n",
       "    <tr>\n",
       "      <th>0</th>\n",
       "      <td>1983</td>\n",
       "      <td>0.335</td>\n",
       "      <td>0.623</td>\n",
       "      <td>2.06</td>\n",
       "      <td>167.50</td>\n",
       "      <td>40.70</td>\n",
       "    </tr>\n",
       "    <tr>\n",
       "      <th>1</th>\n",
       "      <td>1984</td>\n",
       "      <td>0.330</td>\n",
       "      <td>0.616</td>\n",
       "      <td>2.10</td>\n",
       "      <td>298.40</td>\n",
       "      <td>78.65</td>\n",
       "    </tr>\n",
       "    <tr>\n",
       "      <th>2</th>\n",
       "      <td>1985</td>\n",
       "      <td>0.335</td>\n",
       "      <td>0.647</td>\n",
       "      <td>2.17</td>\n",
       "      <td>102.33</td>\n",
       "      <td>32.12</td>\n",
       "    </tr>\n",
       "    <tr>\n",
       "      <th>3</th>\n",
       "      <td>1986</td>\n",
       "      <td>0.330</td>\n",
       "      <td>0.652</td>\n",
       "      <td>2.21</td>\n",
       "      <td>124.24</td>\n",
       "      <td>38.14</td>\n",
       "    </tr>\n",
       "    <tr>\n",
       "      <th>4</th>\n",
       "      <td>1987</td>\n",
       "      <td>0.334</td>\n",
       "      <td>0.680</td>\n",
       "      <td>2.23</td>\n",
       "      <td>146.15</td>\n",
       "      <td>56.14</td>\n",
       "    </tr>\n",
       "  </tbody>\n",
       "</table>\n",
       "</div>"
      ],
      "text/plain": [
       "   Year     ST     EI    IH  GDP ($Mn)  BI ($Mn)\n",
       "0  1983  0.335  0.623  2.06     167.50     40.70\n",
       "1  1984  0.330  0.616  2.10     298.40     78.65\n",
       "2  1985  0.335  0.647  2.17     102.33     32.12\n",
       "3  1986  0.330  0.652  2.21     124.24     38.14\n",
       "4  1987  0.334  0.680  2.23     146.15     56.14"
      ]
     },
     "execution_count": 2,
     "metadata": {},
     "output_type": "execute_result"
    }
   ],
   "source": [
    "import pandas as pd\n",
    "data = pd.read_excel(\"CA 1 Data set.xlsx\")\n",
    "data.head()"
   ]
  },
  {
   "cell_type": "code",
   "execution_count": 3,
   "id": "cb5b3e01",
   "metadata": {},
   "outputs": [
    {
     "name": "stdout",
     "output_type": "stream",
     "text": [
      "Year 41: Predicted GDP = 209.91 ($Mn)\n",
      "Year 42: Predicted GDP = 365.01 ($Mn)\n",
      "Year 43: Predicted GDP = 285.03 ($Mn)\n",
      "Year 44: Predicted GDP = 243.11 ($Mn)\n",
      "Year 45: Predicted GDP = 161.92 ($Mn)\n"
     ]
    },
    {
     "name": "stderr",
     "output_type": "stream",
     "text": [
      "C:\\Users\\moham\\anaconda3\\lib\\site-packages\\statsmodels\\tsa\\statespace\\sarimax.py:978: UserWarning: Non-invertible starting MA parameters found. Using zeros as starting parameters.\n",
      "  warn('Non-invertible starting MA parameters found.'\n"
     ]
    }
   ],
   "source": [
    "import numpy as np\n",
    "import pandas as pd\n",
    "import statsmodels.api as sm\n",
    "import statsmodels.tsa.api as tsa\n",
    "\n",
    "# Define your independent variables (e.g., 'BI' and 'EI')\n",
    "independent_vars = data[['BI ($Mn)']]\n",
    "\n",
    "# Define the dependent variable (GDP)\n",
    "y = data['GDP ($Mn)']\n",
    "\n",
    "# Combine the independent variables and add a constant term\n",
    "X = sm.add_constant(independent_vars)\n",
    "\n",
    "# Perform time series analysis (e.g., ARIMA)\n",
    "model = tsa.ARIMA(y, exog=X, order=(1, 1, 1))  # You may need to adjust the order parameters\n",
    "results = model.fit()\n",
    "\n",
    "# Predict GDP for the next 5 years\n",
    "forecast_steps = 5\n",
    "\n",
    "# Extract the 'BI ($Mn)' and 'EI' columns from your DataFrame\n",
    "bi_values = data['BI ($Mn)'].tail(forecast_steps).tolist()  # Assuming 'BI ($Mn)' is a numeric column\n",
    "\n",
    "# Create a DataFrame with the independent variables for prediction\n",
    "future_independent_vars = pd.DataFrame({'BI ($Mn)': bi_values})\n",
    "\n",
    "# Add a constant term to the independent variables for prediction\n",
    "future_independent_vars = sm.add_constant(future_independent_vars)\n",
    "\n",
    "# Make predictions\n",
    "forecast = results.forecast(steps=forecast_steps, exog=future_independent_vars)\n",
    "\n",
    "# Calculate the next 5 years\n",
    "last_year = data.index[-1]\n",
    "next_5_years = np.arange(last_year + 1, last_year + 1 + forecast_steps)\n",
    "\n",
    "# Display the predictions\n",
    "for year, prediction in zip(next_5_years, forecast):\n",
    "    print(f'Year {year}: Predicted GDP = {prediction:.2f} ($Mn)')"
   ]
  },
  {
   "cell_type": "code",
   "execution_count": null,
   "id": "8f825814",
   "metadata": {},
   "outputs": [],
   "source": []
  }
 ],
 "metadata": {
  "kernelspec": {
   "display_name": "Python 3 (ipykernel)",
   "language": "python",
   "name": "python3"
  },
  "language_info": {
   "codemirror_mode": {
    "name": "ipython",
    "version": 3
   },
   "file_extension": ".py",
   "mimetype": "text/x-python",
   "name": "python",
   "nbconvert_exporter": "python",
   "pygments_lexer": "ipython3",
   "version": "3.9.12"
  }
 },
 "nbformat": 4,
 "nbformat_minor": 5
}
